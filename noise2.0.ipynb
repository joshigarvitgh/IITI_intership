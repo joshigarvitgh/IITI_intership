{
 "cells": [
  {
   "cell_type": "markdown",
   "metadata": {},
   "source": [
    "# Construction of data and prediction of  base Parameters for Noise Isolation "
   ]
  },
  {
   "cell_type": "code",
   "execution_count": 28,
   "metadata": {
    "collapsed": true
   },
   "outputs": [],
   "source": [
    "import numpy as np\n",
    "from matplotlib import pyplot as plt\n",
    "from scipy.stats import norm\n",
    "import random\n",
    "import pandas as pd \n",
    "from matplotlib import pyplot as plt\n",
    "from sklearn.model_selection import train_test_split\n",
    "from sklearn.svm import SVR\n",
    "from sklearn.ensemble import RandomForestRegressor\n",
    "from sklearn.datasets import make_regression\n",
    "from sklearn.tree import DecisionTreeRegressor\n",
    "from sklearn.ensemble import AdaBoostRegressor\n",
    "from sklearn.metrics import mean_squared_error"
   ]
  },
  {
   "cell_type": "code",
   "execution_count": 29,
   "metadata": {
    "collapsed": true
   },
   "outputs": [],
   "source": [
    "x=np.linspace(1, 10, 150)"
   ]
  },
  {
   "cell_type": "code",
   "execution_count": 30,
   "metadata": {
    "collapsed": true
   },
   "outputs": [],
   "source": [
    "#fuctions\n",
    "\n",
    "#linear\n",
    "def linear(m,c):\n",
    "    y=m*x+c\n",
    "    return y\n",
    "\n",
    "#gaussian\n",
    "def gaussian(mu,sigma,a):\n",
    "    gu=((a * np.exp( - (x - mu)**2 / (2 * sigma**2) )))\n",
    "    return gu"
   ]
  },
  {
   "cell_type": "code",
   "execution_count": 31,
   "metadata": {
    "collapsed": true
   },
   "outputs": [],
   "source": [
    "# genration of signals\n",
    "#noisy \n",
    "def calcN():\n",
    "    m=random.uniform(.1,2)\n",
    "    mu=random.uniform(3,6)\n",
    "    sigma=random.uniform(.1,2)\n",
    "    c=random.uniform(0,3)\n",
    "    a=random.uniform(2,6)\n",
    "    noise=(np.random.normal(0,.1,150))\n",
    "    li=linear(m,c)\n",
    "    gaus=gaussian(mu,sigma,a)\n",
    "    sig=li+gaus+noise\n",
    "    return sig,m,mu,sigma,c,a,x\n",
    "#without Noise\n",
    "def calcC():\n",
    "    m=random.uniform(0,2)\n",
    "    mu=random.uniform(0,6)\n",
    "    sigma=random.uniform(.1,2)\n",
    "    c=random.uniform(0,3)\n",
    "    a=random.uniform(0,6)\n",
    "    noise=(np.random.normal(0,.1,150))\n",
    "    li=linear(m,c)\n",
    "    gaus=gaussian(mu,sigma,a)\n",
    "    sig=li+gaus\n",
    "    return sig,m,mu,sigma,c,a,x\n"
   ]
  },
  {
   "cell_type": "code",
   "execution_count": 32,
   "metadata": {
    "collapsed": false
   },
   "outputs": [],
   "source": [
    "\n",
    "#without noise\n",
    "signal=[ calcC() for i in range(4000)]\n",
    "#with noise\n",
    "signal2=[ calcN() for i in range(2000)]\n",
    "#signal is a numpy array"
   ]
  },
  {
   "cell_type": "code",
   "execution_count": 33,
   "metadata": {
    "collapsed": true
   },
   "outputs": [],
   "source": [
    "#genarate dataframes without noise\n",
    "df = pd.DataFrame(signal)\n",
    "signals=(df[0])\n",
    "m=df[1]\n",
    "mu=df[2]\n",
    "sigma=df[3]\n",
    "c=df[4]\n",
    "a=df[5]\n",
    "x=df[6]\n",
    "\n",
    "#genarate dataframes with noise\n",
    "df2 = pd.DataFrame(signal2)\n",
    "signals2=(df2[0])\n",
    "m2=df2[1]\n",
    "mu2=df2[2]\n",
    "sigma2=df2[3]\n",
    "c2=df2[4]\n",
    "a2=df2[5]\n",
    "x2=df2[6]"
   ]
  },
  {
   "cell_type": "code",
   "execution_count": 34,
   "metadata": {
    "collapsed": false
   },
   "outputs": [],
   "source": [
    "#proper Array conversion \n",
    "#without noise\n",
    "signw=[[ signals[i][j] for j in range(150)] for i in range(4000)]\n",
    "\n",
    "#with noise\n",
    "signw2=[[ signals2[i][j] for j in range(150)] for i in range(2000)]"
   ]
  },
  {
   "cell_type": "code",
   "execution_count": 35,
   "metadata": {
    "collapsed": false
   },
   "outputs": [],
   "source": [
    "#form a pandas dataframe without noise\n",
    "data={'signal':signw,\n",
    "        'mu':df[2], \n",
    "        'sigma':df[3], \n",
    "        'amplitude':df[5],\n",
    "        'slope':df[1],\n",
    "        'constant':df[4]\n",
    "        }\n",
    "DatasetC =pd.DataFrame(data,columns = ['signal', 'mu', 'sigma', 'amplitude','slope','constant'])\n",
    "\n",
    "#form a pandas dataframe with noise\n",
    "data={'signal':signw2,\n",
    "        'mu':df2[2], \n",
    "        'sigma':df2[3], \n",
    "        'amplitude':df2[5],\n",
    "        'slope':df2[1],\n",
    "        'constant':df2[4]\n",
    "        }\n",
    "DatasetN =pd.DataFrame(data,columns = ['signal', 'mu', 'sigma', 'amplitude','slope','constant'])\n",
    "\n"
   ]
  },
  {
   "cell_type": "code",
   "execution_count": 36,
   "metadata": {
    "collapsed": false
   },
   "outputs": [],
   "source": [
    "#save data to CSV\n",
    "#Dataset2.to_csv('signal.csv')"
   ]
  },
  {
   "cell_type": "code",
   "execution_count": 109,
   "metadata": {
    "collapsed": false
   },
   "outputs": [
    {
     "data": {
      "text/html": [
       "<div>\n",
       "<style>\n",
       "    .dataframe thead tr:only-child th {\n",
       "        text-align: right;\n",
       "    }\n",
       "\n",
       "    .dataframe thead th {\n",
       "        text-align: left;\n",
       "    }\n",
       "\n",
       "    .dataframe tbody tr th {\n",
       "        vertical-align: top;\n",
       "    }\n",
       "</style>\n",
       "<table border=\"1\" class=\"dataframe\">\n",
       "  <thead>\n",
       "    <tr style=\"text-align: right;\">\n",
       "      <th></th>\n",
       "      <th>signal</th>\n",
       "      <th>mu</th>\n",
       "      <th>sigma</th>\n",
       "      <th>amplitude</th>\n",
       "      <th>slope</th>\n",
       "      <th>constant</th>\n",
       "    </tr>\n",
       "  </thead>\n",
       "  <tbody>\n",
       "    <tr>\n",
       "      <th>0</th>\n",
       "      <td>[3.03617636021, 3.12354553282, 3.21378533091, ...</td>\n",
       "      <td>3.525113</td>\n",
       "      <td>1.044436</td>\n",
       "      <td>3.041374</td>\n",
       "      <td>1.045172</td>\n",
       "      <td>1.827396</td>\n",
       "    </tr>\n",
       "    <tr>\n",
       "      <th>1</th>\n",
       "      <td>[6.20444455022, 6.25529865883, 6.29917730153, ...</td>\n",
       "      <td>0.733320</td>\n",
       "      <td>1.319496</td>\n",
       "      <td>3.659098</td>\n",
       "      <td>1.450103</td>\n",
       "      <td>1.169217</td>\n",
       "    </tr>\n",
       "    <tr>\n",
       "      <th>2</th>\n",
       "      <td>[6.0809705668, 6.09528944307, 6.10144609765, 6...</td>\n",
       "      <td>0.630079</td>\n",
       "      <td>0.742606</td>\n",
       "      <td>2.198992</td>\n",
       "      <td>1.615962</td>\n",
       "      <td>2.522602</td>\n",
       "    </tr>\n",
       "    <tr>\n",
       "      <th>3</th>\n",
       "      <td>[3.46961415012, 3.58488213867, 3.70015100252, ...</td>\n",
       "      <td>3.556370</td>\n",
       "      <td>0.472827</td>\n",
       "      <td>2.177071</td>\n",
       "      <td>1.908310</td>\n",
       "      <td>1.561303</td>\n",
       "    </tr>\n",
       "    <tr>\n",
       "      <th>4</th>\n",
       "      <td>[4.93825042596, 5.01506772731, 5.091087768, 5....</td>\n",
       "      <td>0.246739</td>\n",
       "      <td>1.687690</td>\n",
       "      <td>0.911029</td>\n",
       "      <td>1.496713</td>\n",
       "      <td>2.616878</td>\n",
       "    </tr>\n",
       "  </tbody>\n",
       "</table>\n",
       "</div>"
      ],
      "text/plain": [
       "                                              signal        mu     sigma  \\\n",
       "0  [3.03617636021, 3.12354553282, 3.21378533091, ...  3.525113  1.044436   \n",
       "1  [6.20444455022, 6.25529865883, 6.29917730153, ...  0.733320  1.319496   \n",
       "2  [6.0809705668, 6.09528944307, 6.10144609765, 6...  0.630079  0.742606   \n",
       "3  [3.46961415012, 3.58488213867, 3.70015100252, ...  3.556370  0.472827   \n",
       "4  [4.93825042596, 5.01506772731, 5.091087768, 5....  0.246739  1.687690   \n",
       "\n",
       "   amplitude     slope  constant  \n",
       "0   3.041374  1.045172  1.827396  \n",
       "1   3.659098  1.450103  1.169217  \n",
       "2   2.198992  1.615962  2.522602  \n",
       "3   2.177071  1.908310  1.561303  \n",
       "4   0.911029  1.496713  2.616878  "
      ]
     },
     "execution_count": 109,
     "metadata": {},
     "output_type": "execute_result"
    }
   ],
   "source": [
    "DatasetC[:5]"
   ]
  },
  {
   "cell_type": "code",
   "execution_count": 111,
   "metadata": {
    "collapsed": false
   },
   "outputs": [
    {
     "data": {
      "text/html": [
       "<div>\n",
       "<style>\n",
       "    .dataframe thead tr:only-child th {\n",
       "        text-align: right;\n",
       "    }\n",
       "\n",
       "    .dataframe thead th {\n",
       "        text-align: left;\n",
       "    }\n",
       "\n",
       "    .dataframe tbody tr th {\n",
       "        vertical-align: top;\n",
       "    }\n",
       "</style>\n",
       "<table border=\"1\" class=\"dataframe\">\n",
       "  <thead>\n",
       "    <tr style=\"text-align: right;\">\n",
       "      <th></th>\n",
       "      <th>signal</th>\n",
       "      <th>mu</th>\n",
       "      <th>sigma</th>\n",
       "      <th>amplitude</th>\n",
       "      <th>slope</th>\n",
       "      <th>constant</th>\n",
       "    </tr>\n",
       "  </thead>\n",
       "  <tbody>\n",
       "    <tr>\n",
       "      <th>0</th>\n",
       "      <td>[2.41228380224, 2.48438925791, 2.79660720304, ...</td>\n",
       "      <td>5.572910</td>\n",
       "      <td>1.769763</td>\n",
       "      <td>4.919575</td>\n",
       "      <td>0.948330</td>\n",
       "      <td>1.317692</td>\n",
       "    </tr>\n",
       "    <tr>\n",
       "      <th>1</th>\n",
       "      <td>[2.27442932107, 2.45701398407, 2.54609334696, ...</td>\n",
       "      <td>3.511228</td>\n",
       "      <td>0.708826</td>\n",
       "      <td>2.645008</td>\n",
       "      <td>1.308834</td>\n",
       "      <td>1.033855</td>\n",
       "    </tr>\n",
       "    <tr>\n",
       "      <th>2</th>\n",
       "      <td>[3.14018284117, 3.0731935328, 3.42088457425, 3...</td>\n",
       "      <td>5.659399</td>\n",
       "      <td>1.770733</td>\n",
       "      <td>4.422514</td>\n",
       "      <td>0.613850</td>\n",
       "      <td>2.511995</td>\n",
       "    </tr>\n",
       "    <tr>\n",
       "      <th>3</th>\n",
       "      <td>[3.24357931103, 3.43598322601, 3.2900182282, 3...</td>\n",
       "      <td>5.389867</td>\n",
       "      <td>1.561555</td>\n",
       "      <td>5.362447</td>\n",
       "      <td>1.335072</td>\n",
       "      <td>1.831473</td>\n",
       "    </tr>\n",
       "    <tr>\n",
       "      <th>4</th>\n",
       "      <td>[2.70604124452, 2.70720754619, 2.89442412667, ...</td>\n",
       "      <td>4.146371</td>\n",
       "      <td>1.767453</td>\n",
       "      <td>5.962685</td>\n",
       "      <td>0.722956</td>\n",
       "      <td>0.701456</td>\n",
       "    </tr>\n",
       "  </tbody>\n",
       "</table>\n",
       "</div>"
      ],
      "text/plain": [
       "                                              signal        mu     sigma  \\\n",
       "0  [2.41228380224, 2.48438925791, 2.79660720304, ...  5.572910  1.769763   \n",
       "1  [2.27442932107, 2.45701398407, 2.54609334696, ...  3.511228  0.708826   \n",
       "2  [3.14018284117, 3.0731935328, 3.42088457425, 3...  5.659399  1.770733   \n",
       "3  [3.24357931103, 3.43598322601, 3.2900182282, 3...  5.389867  1.561555   \n",
       "4  [2.70604124452, 2.70720754619, 2.89442412667, ...  4.146371  1.767453   \n",
       "\n",
       "   amplitude     slope  constant  \n",
       "0   4.919575  0.948330  1.317692  \n",
       "1   2.645008  1.308834  1.033855  \n",
       "2   4.422514  0.613850  2.511995  \n",
       "3   5.362447  1.335072  1.831473  \n",
       "4   5.962685  0.722956  0.701456  "
      ]
     },
     "execution_count": 111,
     "metadata": {},
     "output_type": "execute_result"
    }
   ],
   "source": [
    "DatasetN[:5]"
   ]
  },
  {
   "cell_type": "markdown",
   "metadata": {},
   "source": [
    "#split dataset"
   ]
  },
  {
   "cell_type": "code",
   "execution_count": 39,
   "metadata": {
    "collapsed": true
   },
   "outputs": [],
   "source": [
    "#for M\n",
    "X_trainM, X_testM, y_trainM, y_testM = train_test_split(signw,m,test_size=0.5)\n",
    "# for A\n",
    "X_trainA, X_testA, y_trainA, y_testA = train_test_split(signw,a,test_size=0.5)\n",
    "#for C\n",
    "X_trainC, X_testC, y_trainC, y_testC = train_test_split(signw,c,test_size=0.5)\n",
    "#for Mu\n",
    "X_trainMu, X_testMu, y_trainMu, y_testMu = train_test_split(signw,mu,test_size=0.5)\n",
    "#for Sigma\n",
    "X_trainS, X_testS, y_trainS, y_testS = train_test_split(signw,sigma,test_size=0.5)"
   ]
  },
  {
   "cell_type": "markdown",
   "metadata": {},
   "source": [
    "# Wthout Noise in Traning and Noisy data for Testing"
   ]
  },
  {
   "cell_type": "markdown",
   "metadata": {},
   "source": [
    "# SVR Prediction Module\n",
    "\n"
   ]
  },
  {
   "cell_type": "code",
   "execution_count": 40,
   "metadata": {
    "collapsed": false
   },
   "outputs": [
    {
     "name": "stdout",
     "output_type": "stream",
     "text": [
      "Average Accuracy of SVR for four parameters for a dataset of 1000 values is  -67.1267041095 %\n",
      "Average error rate of SVR for four parameters for a dataset of 1000 values is  0.434404032878\n"
     ]
    }
   ],
   "source": [
    "#for M \n",
    "clf = SVR(C=1.0, epsilon=0.2)\n",
    "clf.fit(X_trainM,y_trainM) \n",
    "SVR(C=1.0, cache_size=2002, coef0=0.0, degree=3, epsilon=0.2, gamma='auto',\n",
    "    kernel='rbf', max_iter=-10, shrinking=True, tol=0.001, verbose=False)\n",
    "P1=clf.predict(X_testM)\n",
    "MC=mean_squared_error(y_testM,P1)\n",
    "y1=clf.score(signw2,y_testM)\n",
    "\n",
    "#for A\n",
    "clf = SVR(C=1.0, epsilon=0.2)\n",
    "clf.fit(X_trainA,y_trainA) \n",
    "SVR(C=1.0, cache_size=2002, coef0=0.0, degree=3, epsilon=0.2, gamma='auto',\n",
    "    kernel='rbf', max_iter=-10, shrinking=True, tol=0.001, verbose=False)\n",
    "P2=clf.predict(X_testA)\n",
    "MC2=mean_squared_error(y_testA,P2)\n",
    "y2=clf.score(signw2,y_testA)\n",
    "\n",
    "#for C\n",
    "clf = SVR(C=1.0, epsilon=0.2)\n",
    "clf.fit(X_trainC,y_trainC) \n",
    "SVR(C=1.0, cache_size=2002, coef0=0.0, degree=3, epsilon=0.2, gamma='auto',\n",
    "    kernel='rbf', max_iter=-10, shrinking=True, tol=0.001, verbose=False)\n",
    "P3=clf.predict(X_testC)\n",
    "MC3=mean_squared_error(y_testC,P3)\n",
    "y3=clf.score(signw2,y_testC)\n",
    "\n",
    "# for Mu\n",
    "clf = SVR(C=1.0, epsilon=0.2)\n",
    "clf.fit(X_trainMu,y_trainMu) \n",
    "SVR(C=1.0, cache_size=2002, coef0=0.0, degree=3, epsilon=0.2, gamma='auto',\n",
    "    kernel='rbf', max_iter=-10, shrinking=True, tol=0.001, verbose=False)\n",
    "P4=clf.predict(X_testMu)\n",
    "MC4=mean_squared_error(y_testMu,P4)\n",
    "y4=clf.score(signw2,y_testMu)\n",
    "\n",
    "#for Sigma\n",
    "\n",
    "clf = SVR(C=1.0, epsilon=0.2)\n",
    "clf.fit(X_trainS,y_trainS) \n",
    "SVR(C=1.0, cache_size=2002, coef0=0.0, degree=3, epsilon=0.2, gamma='auto',\n",
    "    kernel='rbf', max_iter=-10, shrinking=True, tol=0.001, verbose=False)\n",
    "P5=clf.predict(X_testS)\n",
    "MC5=mean_squared_error(y_testS,P3)\n",
    "y5=clf.score(signw2,y_testS)\n",
    "\n",
    "\n",
    "avg=(y1+y2+y3+y4+y5)/5\n",
    "print('Average Accuracy of SVR for four parameters for a dataset of 1000 values is ',avg*100,'%')\n",
    "err=(MC+MC2+MC3+MC4+MC5)/5\n",
    "print('Average error rate of SVR for four parameters for a dataset of 1000 values is ',err)"
   ]
  },
  {
   "cell_type": "markdown",
   "metadata": {},
   "source": [
    "# Descision forest regression"
   ]
  },
  {
   "cell_type": "code",
   "execution_count": 41,
   "metadata": {
    "collapsed": false
   },
   "outputs": [
    {
     "name": "stdout",
     "output_type": "stream",
     "text": [
      "Average Accuracy of Descision forest regressor for four parameters for a dataset of 1000 values is  -42.4783619063 %\n",
      "Average error of Descision forest regressor for four parameters for a dataset of 1000 values is  0.78667771509\n"
     ]
    }
   ],
   "source": [
    "#for M\n",
    "regr = RandomForestRegressor(max_depth=4, random_state=0)\n",
    "regr.fit(X_trainM, y_trainM)\n",
    "RandomForestRegressor(bootstrap=True, criterion='mse', max_depth=3,\n",
    "           max_features='auto', max_leaf_nodes=None,\n",
    "           min_impurity_decrease=0.0, min_impurity_split=None,\n",
    "           min_samples_leaf=1, min_samples_split=2,\n",
    "           min_weight_fraction_leaf=0.0, n_estimators=100, n_jobs=4,\n",
    "           oob_score=False, random_state=0, verbose=0, warm_start=False)\n",
    "\n",
    "CC=regr.predict(X_testM)\n",
    "RR=mean_squared_error(y_testM,CC)\n",
    "y11=regr.score(signw2,y_testM)\n",
    "\n",
    "#for A\n",
    "regr = RandomForestRegressor(max_depth=4, random_state=0)\n",
    "regr.fit(X_trainA, y_trainA)\n",
    "RandomForestRegressor(bootstrap=True, criterion='mse', max_depth=3,\n",
    "           max_features='auto', max_leaf_nodes=None,\n",
    "           min_impurity_decrease=0.0, min_impurity_split=None,\n",
    "           min_samples_leaf=1, min_samples_split=2,\n",
    "           min_weight_fraction_leaf=0.0, n_estimators=100, n_jobs=4,\n",
    "           oob_score=False, random_state=0, verbose=0, warm_start=False)\n",
    "\n",
    "CC2=regr.predict(X_testA)\n",
    "RR2=mean_squared_error(y_testA,CC2)\n",
    "y22=regr.score(signw2,y_testA)\n",
    "\n",
    "#for C\n",
    "regr = RandomForestRegressor(max_depth=4, random_state=0)\n",
    "regr.fit(X_trainC, y_trainC)\n",
    "RandomForestRegressor(bootstrap=True, criterion='mse', max_depth=3,\n",
    "           max_features='auto', max_leaf_nodes=None,\n",
    "           min_impurity_decrease=0.0, min_impurity_split=None,\n",
    "           min_samples_leaf=1, min_samples_split=2,\n",
    "           min_weight_fraction_leaf=0.0, n_estimators=100, n_jobs=4,\n",
    "           oob_score=False, random_state=0, verbose=0, warm_start=False)\n",
    "\n",
    "CC3=regr.predict(X_testC)\n",
    "RR3=mean_squared_error(y_testC,CC3)\n",
    "y33=regr.score(signw2,y_testC\n",
    "              )\n",
    "#for MU\n",
    "regr = RandomForestRegressor(max_depth=4, random_state=0)\n",
    "regr.fit(X_trainMu, y_trainMu)\n",
    "RandomForestRegressor(bootstrap=True, criterion='mse', max_depth=3,\n",
    "           max_features='auto', max_leaf_nodes=None,\n",
    "           min_impurity_decrease=0.0, min_impurity_split=None,\n",
    "           min_samples_leaf=1, min_samples_split=2,\n",
    "           min_weight_fraction_leaf=0.0, n_estimators=100, n_jobs=4,\n",
    "           oob_score=False, random_state=0, verbose=0, warm_start=False)\n",
    "\n",
    "CC4=regr.predict(X_testMu)\n",
    "RR4=mean_squared_error(y_testMu,CC4)\n",
    "y44=regr.score(signw2,y_testMu)\n",
    "#for Sigma\n",
    "regr = RandomForestRegressor(max_depth=4, random_state=0)\n",
    "regr.fit(X_trainS, y_trainS)\n",
    "RandomForestRegressor(bootstrap=True, criterion='mse', max_depth=3,\n",
    "           max_features='auto', max_leaf_nodes=None,\n",
    "           min_impurity_decrease=0.0, min_impurity_split=None,\n",
    "           min_samples_leaf=1, min_samples_split=2,\n",
    "           min_weight_fraction_leaf=0.0, n_estimators=100, n_jobs=4,\n",
    "           oob_score=False, random_state=0, verbose=0, warm_start=False)\n",
    "\n",
    "CC5=regr.predict(X_testS)\n",
    "RR5=mean_squared_error(y_testS,CC5)\n",
    "y55=regr.score(signw2,y_testS)\n",
    "\n",
    "\n",
    "\n",
    "avg2=(y11+y22+y33+y44+y55)/5\n",
    "print('Average Accuracy of Descision forest regressor for four parameters for a dataset of 1000 values is ',avg2*100,'%')\n",
    "err2=(RR+RR2+RR3+RR4+RR5)/5\n",
    "print('Average error of Descision forest regressor for four parameters for a dataset of 1000 values is ',err2)"
   ]
  },
  {
   "cell_type": "markdown",
   "metadata": {},
   "source": [
    "# Boosted Decision tree regression"
   ]
  },
  {
   "cell_type": "code",
   "execution_count": 43,
   "metadata": {
    "collapsed": false
   },
   "outputs": [
    {
     "name": "stdout",
     "output_type": "stream",
     "text": [
      "Average Accuracy of boosted Descision Tree for four parameters for a dataset of 1000 values is  -67.6926196254 %\n",
      "Average Accuracy of boosted Descision Tree for four parameters for a dataset of 1000 values is  0.341342382613\n"
     ]
    }
   ],
   "source": [
    "#for M\n",
    "regr= AdaBoostRegressor(DecisionTreeRegressor(max_depth=4),\n",
    "                          n_estimators=300)\n",
    "regr.fit(X_trainM, y_trainM)\n",
    "PP=regr.predict(X_testM)\n",
    "g1=regr.score(signw2,y_testM)\n",
    "oo=mean_squared_error(y_testM,PP)\n",
    "\n",
    "#for A\n",
    "\n",
    "regr= AdaBoostRegressor(DecisionTreeRegressor(max_depth=12),\n",
    "                          n_estimators=300)\n",
    "regr.fit(X_trainA, y_trainA)\n",
    "PP2=regr.predict(X_testA)\n",
    "g2=regr.score(signw2,y_testA)\n",
    "oo2=mean_squared_error(y_testA,PP2)\n",
    "\n",
    "#for C\n",
    "\n",
    "regr= AdaBoostRegressor(DecisionTreeRegressor(max_depth=12),\n",
    "                          n_estimators=300)\n",
    "regr.fit(X_trainC, y_trainC)\n",
    "PP3=regr.predict(X_testC)\n",
    "g3=regr.score(signw2,y_testC)\n",
    "oo3=mean_squared_error(y_testC,PP3)\n",
    "\n",
    "#for Mu\n",
    "\n",
    "regr= AdaBoostRegressor(DecisionTreeRegressor(max_depth=12),\n",
    "                          n_estimators=300)\n",
    "regr.fit(X_trainMu, y_trainMu)\n",
    "PP4=regr.predict(X_testMu)\n",
    "g4=regr.score(signw2,y_testMu)\n",
    "oo4=mean_squared_error(y_testMu,PP4)\n",
    "\n",
    "#for Sigma\n",
    "\n",
    "regr= AdaBoostRegressor(DecisionTreeRegressor(max_depth=12),\n",
    "                          n_estimators=300)\n",
    "regr.fit(X_trainS, y_trainS)\n",
    "PP5=regr.predict(X_testS)\n",
    "g5=regr.score(signw2,y_testS)\n",
    "oo5=mean_squared_error(y_testS,PP5)\n",
    "\n",
    "avg3=(g1+g2+g3+g4+g5)/5\n",
    "print('Average Accuracy of boosted Descision Tree for four parameters for a dataset of 1000 values is ',avg3*100,'%')\n",
    "err3=(oo+oo2+oo3+oo4+oo5)/5\n",
    "print('Average Accuracy of boosted Descision Tree for four parameters for a dataset of 1000 values is ',err3)"
   ]
  },
  {
   "cell_type": "markdown",
   "metadata": {},
   "source": [
    "# prediction of Data with noise function added to signals before Traning "
   ]
  },
  {
   "cell_type": "code",
   "execution_count": 44,
   "metadata": {
    "collapsed": true
   },
   "outputs": [],
   "source": [
    "#spliiting the DATA\n",
    "\n",
    "#for M\n",
    "X_trainM, X_testM, y_trainM, y_testM = train_test_split(signw2,m2,test_size=0.5)\n",
    "# for A\n",
    "X_trainA, X_testA, y_trainA, y_testA = train_test_split(signw2,a2,test_size=0.5)\n",
    "#for C\n",
    "X_trainC, X_testC, y_trainC, y_testC = train_test_split(signw2,c2,test_size=0.5)\n",
    "#for Mu\n",
    "X_trainMu, X_testMu, y_trainMu, y_testMu = train_test_split(signw2,mu2,test_size=0.5)\n",
    "#for Sigma\n",
    "X_trainS, X_testS, y_trainS, y_testS = train_test_split(signw2,sigma2,test_size=0.5)"
   ]
  },
  {
   "cell_type": "markdown",
   "metadata": {},
   "source": [
    "# SVR prediction module"
   ]
  },
  {
   "cell_type": "code",
   "execution_count": 45,
   "metadata": {
    "collapsed": false
   },
   "outputs": [
    {
     "name": "stdout",
     "output_type": "stream",
     "text": [
      "Average Accuracy of SVR for four parameters for a dataset of 1000 values is  86.5690380806 %\n",
      "Average error rate of SVR for four parameters for a dataset of 1000 values is  0.252490434774\n"
     ]
    }
   ],
   "source": [
    "#for M \n",
    "clf = SVR(C=1.0, epsilon=0.2)\n",
    "clf.fit(X_trainM,y_trainM) \n",
    "SVR(C=1.0, cache_size=2002, coef0=0.0, degree=3, epsilon=0.2, gamma='auto',\n",
    "    kernel='rbf', max_iter=-10, shrinking=True, tol=0.001, verbose=False)\n",
    "P1=clf.predict(X_testM)\n",
    "MCn=mean_squared_error(y_testM,P1)\n",
    "y1n=clf.score(X_testM,y_testM)\n",
    "\n",
    "#for A\n",
    "clf = SVR(C=1.0, epsilon=0.2)\n",
    "clf.fit(X_trainA,y_trainA) \n",
    "SVR(C=1.0, cache_size=2002, coef0=0.0, degree=3, epsilon=0.2, gamma='auto',\n",
    "    kernel='rbf', max_iter=-10, shrinking=True, tol=0.001, verbose=False)\n",
    "P2=clf.predict(X_testA)\n",
    "MC2n=mean_squared_error(y_testA,P2)\n",
    "y2n=clf.score(X_testA,y_testA)\n",
    "\n",
    "#for C\n",
    "clf = SVR(C=1.0, epsilon=0.2)\n",
    "clf.fit(X_trainC,y_trainC) \n",
    "SVR(C=1.0, cache_size=2002, coef0=0.0, degree=3, epsilon=0.2, gamma='auto',\n",
    "    kernel='rbf', max_iter=-10, shrinking=True, tol=0.001, verbose=False)\n",
    "P3=clf.predict(X_testC)\n",
    "MC3n=mean_squared_error(y_testC,P3)\n",
    "y3n=clf.score(X_testC,y_testC)\n",
    "\n",
    "# for Mu\n",
    "clf = SVR(C=1.0, epsilon=0.2)\n",
    "clf.fit(X_trainMu,y_trainMu) \n",
    "SVR(C=1.0, cache_size=2002, coef0=0.0, degree=3, epsilon=0.2, gamma='auto',\n",
    "    kernel='rbf', max_iter=-10, shrinking=True, tol=0.001, verbose=False)\n",
    "P4=clf.predict(X_testMu)\n",
    "MC4n=mean_squared_error(y_testMu,P4)\n",
    "y4n=clf.score(X_testMu,y_testMu)\n",
    "\n",
    "#for Sigma\n",
    "\n",
    "clf = SVR(C=1.0, epsilon=0.2)\n",
    "clf.fit(X_trainS,y_trainS) \n",
    "SVR(C=1.0, cache_size=2002, coef0=0.0, degree=3, epsilon=0.2, gamma='auto',\n",
    "    kernel='rbf', max_iter=-10, shrinking=True, tol=0.001, verbose=False)\n",
    "P5=clf.predict(X_testS)\n",
    "MC5n=mean_squared_error(y_testS,P3)\n",
    "y5n=clf.score(X_testS,y_testS)\n",
    "\n",
    "\n",
    "avg11=(y1n+y2n+y3n+y4n+y5n)/5\n",
    "print('Average Accuracy of SVR for four parameters for a dataset of 1000 values is ',avg11*100,'%')\n",
    "err11=(MCn+MC2n+MC3n+MC4n+MC5n)/5\n",
    "print('Average error rate of SVR for four parameters for a dataset of 1000 values is ',err11)"
   ]
  },
  {
   "cell_type": "markdown",
   "metadata": {},
   "source": [
    "# Descision forest regression"
   ]
  },
  {
   "cell_type": "code",
   "execution_count": 46,
   "metadata": {
    "collapsed": false
   },
   "outputs": [
    {
     "name": "stdout",
     "output_type": "stream",
     "text": [
      "Average Accuracy of Descision forest regressor for four parameters for a dataset of 1000 values is  63.7971937166 %\n",
      "Average error of Descision forest regressor for four parameters for a dataset of 1000 values is  0.294807041004\n"
     ]
    }
   ],
   "source": [
    "#for M\n",
    "regr = RandomForestRegressor(max_depth=4, random_state=0)\n",
    "regr.fit(X_trainM,y_trainM)\n",
    "RandomForestRegressor(bootstrap=True, criterion='mse', max_depth=3,\n",
    "           max_features='auto', max_leaf_nodes=None,\n",
    "           min_impurity_decrease=0.0, min_impurity_split=None,\n",
    "           min_samples_leaf=1, min_samples_split=2,\n",
    "           min_weight_fraction_leaf=0.0, n_estimators=100, n_jobs=4,\n",
    "           oob_score=False, random_state=0, verbose=0, warm_start=False)\n",
    "\n",
    "CC=regr.predict(X_testM)\n",
    "RRn=mean_squared_error(y_testM,CC)\n",
    "y11n=regr.score(X_testM,y_testM)\n",
    "\n",
    "#for A\n",
    "regr = RandomForestRegressor(max_depth=4, random_state=0)\n",
    "regr.fit(X_trainA, y_trainA)\n",
    "RandomForestRegressor(bootstrap=True, criterion='mse', max_depth=3,\n",
    "           max_features='auto', max_leaf_nodes=None,\n",
    "           min_impurity_decrease=0.0, min_impurity_split=None,\n",
    "           min_samples_leaf=1, min_samples_split=2,\n",
    "           min_weight_fraction_leaf=0.0, n_estimators=100, n_jobs=4,\n",
    "           oob_score=False, random_state=0, verbose=0, warm_start=False)\n",
    "\n",
    "CC2=regr.predict(X_testA)\n",
    "RR2n=mean_squared_error(y_testA,CC2)\n",
    "y22n=regr.score(X_testA,y_testA)\n",
    "\n",
    "#for C\n",
    "regr = RandomForestRegressor(max_depth=4, random_state=0)\n",
    "regr.fit(X_trainC, y_trainC)\n",
    "RandomForestRegressor(bootstrap=True, criterion='mse', max_depth=3,\n",
    "           max_features='auto', max_leaf_nodes=None,\n",
    "           min_impurity_decrease=0.0, min_impurity_split=None,\n",
    "           min_samples_leaf=1, min_samples_split=2,\n",
    "           min_weight_fraction_leaf=0.0, n_estimators=100, n_jobs=4,\n",
    "           oob_score=False, random_state=0, verbose=0, warm_start=False)\n",
    "\n",
    "CC3=regr.predict(X_testC)\n",
    "RR3n=mean_squared_error(y_testC,CC3)\n",
    "y33n=regr.score(X_testC,y_testC)\n",
    "\n",
    "#for MU\n",
    "regr = RandomForestRegressor(max_depth=4, random_state=0)\n",
    "regr.fit(X_trainMu, y_trainMu)\n",
    "RandomForestRegressor(bootstrap=True, criterion='mse', max_depth=3,\n",
    "           max_features='auto', max_leaf_nodes=None,\n",
    "           min_impurity_decrease=0.0, min_impurity_split=None,\n",
    "           min_samples_leaf=1, min_samples_split=2,\n",
    "           min_weight_fraction_leaf=0.0, n_estimators=100, n_jobs=4,\n",
    "           oob_score=False, random_state=0, verbose=0, warm_start=False)\n",
    "\n",
    "CC4=regr.predict(X_testMu)\n",
    "RR4n=mean_squared_error(y_testMu,CC4)\n",
    "y44n=regr.score(X_testMu,y_testMu)\n",
    "\n",
    "#for Sigma\n",
    "regr = RandomForestRegressor(max_depth=4, random_state=0)\n",
    "regr.fit(X_trainS, y_trainS)\n",
    "RandomForestRegressor(bootstrap=True, criterion='mse', max_depth=3,\n",
    "           max_features='auto', max_leaf_nodes=None,\n",
    "           min_impurity_decrease=0.0, min_impurity_split=None,\n",
    "           min_samples_leaf=1, min_samples_split=2,\n",
    "           min_weight_fraction_leaf=0.0, n_estimators=100, n_jobs=4,\n",
    "           oob_score=False, random_state=0, verbose=0, warm_start=False)\n",
    "\n",
    "CC5=regr.predict(X_testS)\n",
    "RR5n=mean_squared_error(y_testS,CC5)\n",
    "y55n=regr.score(X_testS,y_testS)\n",
    "\n",
    "\n",
    "\n",
    "avg22=(y11n+y22n+y33n+y44n+y55n)/5\n",
    "print('Average Accuracy of Descision forest regressor for four parameters for a dataset of 1000 values is ',avg22*100,'%')\n",
    "err22=(RRn+RR2n+RR3n+RR4n+RR5n)/5\n",
    "print('Average error of Descision forest regressor for four parameters for a dataset of 1000 values is ',err22)"
   ]
  },
  {
   "cell_type": "markdown",
   "metadata": {},
   "source": [
    "# Boosted Decision tree regression"
   ]
  },
  {
   "cell_type": "code",
   "execution_count": 50,
   "metadata": {
    "collapsed": false
   },
   "outputs": [
    {
     "name": "stdout",
     "output_type": "stream",
     "text": [
      "Average Accuracy of boosted Descision Tree for four parameters for a dataset of 1000 values is  87.8670217704 %\n",
      "Average Accuracy of boosted Descision Tree for four parameters for a dataset of 1000 values is  0.100793696828\n"
     ]
    }
   ],
   "source": [
    "#for M\n",
    "regr= AdaBoostRegressor(DecisionTreeRegressor(max_depth=4),\n",
    "                          n_estimators=300)\n",
    "regr.fit(X_trainM, y_trainM)\n",
    "PP=regr.predict(X_testM)\n",
    "g1n=regr.score(X_testM,y_testM)\n",
    "oon=mean_squared_error(y_testM,PP)\n",
    "\n",
    "#for A\n",
    "\n",
    "regr= AdaBoostRegressor(DecisionTreeRegressor(max_depth=12),\n",
    "                          n_estimators=300)\n",
    "regr.fit(X_trainA, y_trainA)\n",
    "PP2=regr.predict(X_testA)\n",
    "g2n=regr.score(X_testA,y_testA)\n",
    "oo2n=mean_squared_error(y_testA,PP2)\n",
    "\n",
    "#for C\n",
    "\n",
    "regr= AdaBoostRegressor(DecisionTreeRegressor(max_depth=12),\n",
    "                          n_estimators=300)\n",
    "regr.fit(X_trainC, y_trainC)\n",
    "PP3=regr.predict(X_testC)\n",
    "g3n=regr.score(X_testC,y_testC)\n",
    "oo3n=mean_squared_error(y_testC,PP3)\n",
    "\n",
    "#for Mu\n",
    "\n",
    "regr= AdaBoostRegressor(DecisionTreeRegressor(max_depth=12),\n",
    "                          n_estimators=300)\n",
    "regr.fit(X_trainMu, y_trainMu)\n",
    "PP4=regr.predict(X_testMu)\n",
    "g4n=regr.score(X_testMu,y_testMu)\n",
    "oo4n=mean_squared_error(y_testMu,PP4)\n",
    "\n",
    "#for Sigma\n",
    "\n",
    "regr= AdaBoostRegressor(DecisionTreeRegressor(max_depth=12),\n",
    "                          n_estimators=300)\n",
    "regr.fit(X_trainS, y_trainS)\n",
    "PP5=regr.predict(X_testS)\n",
    "g5n=regr.score(X_testS,y_testS)\n",
    "oo5n=mean_squared_error(y_testS,PP5)\n",
    "\n",
    "avg33=(g1n+g2n+g3n+g4n+g5n)/5\n",
    "print('Average Accuracy of boosted Descision Tree for four parameters for a dataset of 1000 values is ',avg33*100,'%')\n",
    "err33=(oon+oo2n+oo3n+oo4n+oo5n)/5\n",
    "print('Average Accuracy of boosted Descision Tree for four parameters for a dataset of 1000 values is ',err33)"
   ]
  },
  {
   "cell_type": "code",
   "execution_count": 87,
   "metadata": {
    "collapsed": false
   },
   "outputs": [],
   "source": [
    "\n",
    "d1 = {\n",
    "      'Algo': ['SVR', 'DFR','BDTR'], \n",
    "      'ERR M': [MC,RR,oo],\n",
    "      'ERR A':[MC2,RR2,oo2],\n",
    "      'ERR C':[MC3,RR3,oo3],\n",
    "      'ERR MU':[MC4,RR4,oo4],\n",
    "      'ERR Sigma': [MC5,RR5,oo5],\n",
    "      'Avg ERR':[err,err2,err3]}\n",
    "\n",
    "dff1 = pd.DataFrame(data=d1)\n",
    "\n",
    "\n",
    "\n",
    "d2 = {\n",
    "      'Algo': ['SVR', 'DFR','BDTR'], \n",
    "      'ERR M': [MCn,RRn,oon],\n",
    "      'ERR A':[MC2n,RR2n,oo2n],\n",
    "      'ERR C':[MC3n,RR3n,oo3n],\n",
    "      'ERR MU':[MC4n,RR4n,oo4n],\n",
    "      'ERR Sigma': [MC5n,RR5n,oo5n],\n",
    "      'Avg ERR':[err11,err22,err33]}\n",
    "\n",
    "dff2 = pd.DataFrame(data=d2)\n",
    "\n",
    "\n",
    "d3 = {\n",
    "      'Algo': ['SVR', 'DFR','BDTR'], \n",
    "      'Auc M': [y1,y11,g1],\n",
    "      'Auc A':[y2,y22,g2],\n",
    "      'Auc c':[y3,y33,g3],\n",
    "      'Auc MU':[y4,y44,g4],\n",
    "      'Auc Sigma': [y5,y55,g5],\n",
    "      'Avg':[avg,avg2,avg3]}\n",
    "\n",
    "dff3 = pd.DataFrame(data=d3)\n",
    "\n",
    "\n",
    "\n",
    "d4 = {\n",
    "      'Algo': ['SVR', 'DFR','BDTR'], \n",
    "      'Auc M': [y1n,y11n,g1n],\n",
    "      'Auc A':[y2n,y22n,g2n],\n",
    "      'Auc C':[y3n,y33n,g3n],\n",
    "      'Auc MU':[y4n,y44n,g4n],\n",
    "      'Auc Sigma': [y5n,y55n,g5n],\n",
    "      'Avg':[avg11,avg22,avg33]}\n",
    "\n",
    "dff4 = pd.DataFrame(data=d4)"
   ]
  },
  {
   "cell_type": "code",
   "execution_count": 88,
   "metadata": {
    "collapsed": false
   },
   "outputs": [
    {
     "name": "stdout",
     "output_type": "stream",
     "text": [
      "Error Rate of the Algorithms\n",
      "\n",
      "For Traning Without Noise\n",
      "\n",
      "   Algo   Avg ERR     ERR A     ERR C     ERR M    ERR MU  ERR Sigma\n",
      "0   SVR  0.434404  0.462194  0.146792  0.019924  0.568395   0.974717\n",
      "1   DFR  0.786678  1.967354  0.384585  0.007111  1.331540   0.242799\n",
      "2  BDTR  0.341342  0.825393  0.139089  0.004868  0.565374   0.171987 \n",
      "\n",
      "For Traning With Noise\n",
      "\n",
      "   Algo   Avg ERR     ERR A     ERR C     ERR M    ERR MU  ERR Sigma\n",
      "0   SVR  0.252490  0.164890  0.189742  0.022905  0.049642   0.835272\n",
      "1   DFR  0.294807  0.929442  0.165716  0.005489  0.200584   0.172804\n",
      "2  BDTR  0.100794  0.316194  0.098009  0.003712  0.034567   0.051487\n"
     ]
    }
   ],
   "source": [
    "print(\"Error Rate of the Algorithms\\n\")\n",
    "print(\"For Traning Without Noise\\n\")\n",
    "\n",
    "print(dff1,'\\n')\n",
    "\n",
    "print(\"For Traning With Noise\\n\")\n",
    "print(dff2)"
   ]
  },
  {
   "cell_type": "code",
   "execution_count": 97,
   "metadata": {
    "collapsed": false
   },
   "outputs": [
    {
     "name": "stdout",
     "output_type": "stream",
     "text": [
      "Accuracy percentage of the Algorithms\n",
      "\n",
      "For Traning Without Noise\n",
      "\n",
      "   Algo     Auc A     Auc M    Auc MU  Auc Sigma     Auc c       Avg\n",
      "0   SVR -0.662823 -0.641076 -0.890757  -0.662677 -0.499002 -0.671267\n",
      "1   DFR -0.173586 -0.948785 -0.428358  -0.081541 -0.491649 -0.424784\n",
      "2  BDTR -0.401204 -0.950920 -0.914566  -0.355987 -0.761954 -0.676926 \n",
      "\n",
      "For Traning With Noise\n",
      "\n",
      "   Algo     Auc A     Auc C     Auc M    Auc MU  Auc Sigma       Avg\n",
      "0   SVR  0.874081  0.745820  0.923672  0.931561   0.853317  0.865690\n",
      "1   DFR  0.290230  0.778007  0.981708  0.723465   0.416449  0.637972\n",
      "2  BDTR  0.758538  0.868708  0.987631  0.952344   0.826130  0.878670\n"
     ]
    }
   ],
   "source": [
    "print(\"Accuracy percentage of the Algorithms\\n\") \n",
    "print(\"For Traning Without Noise\\n\")\n",
    "print(dff3,'\\n')\n",
    "print(\"For Traning With Noise\\n\")\n",
    "print(dff4)\n"
   ]
  },
  {
   "cell_type": "markdown",
   "metadata": {},
   "source": [
    "1. Form above observation we can conclude that the Boosted Descission Tree is Good For Prediction the parameters of composit function.\n",
    "2. Gaussian curve has negative and positive slops this can be seen in the range set for generation of the parameters.\n",
    "3. The model will not give prediction of parameters when the algorithms are trained without noise being added to input signal before training because the system need to learn the noisy signal and then learn it’s correlation with other parameters and then predict the final values. IE. It is like teaching someone Algebra and ask that person to solve Calculus.The system need the noisy signal in input to train the module else it will be not be able understand the noisy signal when we give it as input when doing validation.There will be no correlation between the type of data the module is trained on and the data that it is getting as input when Testing.\n",
    "4. The module have a very high error rate and negative accuracy percentage this tell us that the module is worse for prediction of the data"
   ]
  },
  {
   "cell_type": "code",
   "execution_count": 104,
   "metadata": {
    "collapsed": false
   },
   "outputs": [
    {
     "name": "stdout",
     "output_type": "stream",
     "text": [
      "input For Non Noisy Data\n"
     ]
    },
    {
     "data": {
      "image/png": "[encoded data removed]",
      "text/plain": [
       "<matplotlib.figure.Figure at 0x7f9a80c42320>"
      ]
     },
     "metadata": {},
     "output_type": "display_data"
    }
   ],
   "source": [
    "print(\"input For Non Noisy Data\")\n",
    "plt.plot(signw[3])\n",
    "plt.show()"
   ]
  },
  {
   "cell_type": "code",
   "execution_count": 105,
   "metadata": {
    "collapsed": false
   },
   "outputs": [
    {
     "name": "stdout",
     "output_type": "stream",
     "text": [
      "input For Noisy Data\n"
     ]
    },
    {
     "data": {
      "image/png": "[encoded data removed]",
      "text/plain": [
       "<matplotlib.figure.Figure at 0x7f9a80c7edd8>"
      ]
     },
     "metadata": {},
     "output_type": "display_data"
    }
   ],
   "source": [
    "print(\"input For Noisy Data\")\n",
    "plt.plot(signw2[9])\n",
    "plt.show()"
   ]
  },
  {
   "cell_type": "code",
   "execution_count": null,
   "metadata": {
    "collapsed": true
   },
   "outputs": [],
   "source": []
  }
 ],
 "metadata": {
  "anaconda-cloud": {},
  "kernelspec": {
   "display_name": "Python [conda env:py3]",
   "language": "python",
   "name": "conda-env-py3-py"
  },
  "language_info": {
   "codemirror_mode": {
    "name": "ipython",
    "version": 3
   },
   "file_extension": ".py",
   "mimetype": "text/x-python",
   "name": "python",
   "nbconvert_exporter": "python",
   "pygments_lexer": "ipython3",
   "version": "3.6.3"
  }
 },
 "nbformat": 4,
 "nbformat_minor": 1
}
