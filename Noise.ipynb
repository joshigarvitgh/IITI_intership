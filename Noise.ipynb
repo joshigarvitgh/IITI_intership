{
 "cells": [
  {
   "cell_type": "markdown",
   "metadata": {},
   "source": [
    "# Data Genration and noise isolation by prediction of variables of composite function signals."
   ]
  },
  {
   "cell_type": "code",
   "execution_count": 1,
   "metadata": {
    "collapsed": false
   },
   "outputs": [],
   "source": [
    "import numpy as np\n",
    "from matplotlib import pyplot as plt\n",
    "from scipy.stats import norm\n",
    "import random\n",
    "import pandas as pd \n",
    "from matplotlib import pyplot as plt\n",
    "from sklearn.model_selection import train_test_split\n",
    "from sklearn.metrics import confusion_matrix"
   ]
  },
  {
   "cell_type": "code",
   "execution_count": 2,
   "metadata": {
    "collapsed": true
   },
   "outputs": [],
   "source": [
    "#fuctions\n",
    "x=np.linspace(1, 10, 150)\n",
    "#linear\n",
    "def linear(m,c):\n",
    "    y=m*x+c\n",
    "    return y\n",
    "\n",
    "#gaussian\n",
    "def gaussian(mu,sigma,a):\n",
    "    gu=((a * np.exp( - (x - mu)**2 / (2 * sigma**2) )))\n",
    "    return gu"
   ]
  },
  {
   "cell_type": "code",
   "execution_count": 3,
   "metadata": {
    "collapsed": true
   },
   "outputs": [],
   "source": [
    "# genration of signals\n",
    "def calc():\n",
    "    m=random.uniform(.1,2)\n",
    "    mu=random.uniform(3,6)\n",
    "    sigma=random.uniform(.1,2)\n",
    "    c=random.uniform(0,3)\n",
    "    a=random.uniform(2,6)\n",
    "    noise=(np.random.normal(0,.1,150))\n",
    "    li=linear(m,c)\n",
    "    gaus=gaussian(mu,sigma,a)\n",
    "    sig=li+gaus+noise\n",
    "    return sig,m,mu,sigma,c,a,x\n"
   ]
  },
  {
   "cell_type": "code",
   "execution_count": 4,
   "metadata": {
    "collapsed": false
   },
   "outputs": [],
   "source": [
    "#genrate dataset with 500 values\n",
    "signal=[ calc() for i in range(2000)]\n",
    "#signal is a numpy array"
   ]
  },
  {
   "cell_type": "code",
   "execution_count": 5,
   "metadata": {
    "collapsed": false
   },
   "outputs": [],
   "source": [
    "#genarate dataframes\n",
    "df = pd.DataFrame(signal)\n",
    "signals=(df[0])\n",
    "m=df[1]\n",
    "mu=df[2]\n",
    "sigma=df[3]\n",
    "c=df[4]\n",
    "a=df[5]\n",
    "x=df[6]\n"
   ]
  },
  {
   "cell_type": "code",
   "execution_count": 6,
   "metadata": {
    "collapsed": false
   },
   "outputs": [],
   "source": [
    "#proper Array conversion \n",
    "\n",
    "signw=[[ signals[i][j] for j in range(150)] for i in range(2000)]"
   ]
  },
  {
   "cell_type": "markdown",
   "metadata": {},
   "source": [
    "# Data Saving"
   ]
  },
  {
   "cell_type": "code",
   "execution_count": 7,
   "metadata": {
    "collapsed": false
   },
   "outputs": [],
   "source": [
    "#form a pandas dataframe\n",
    "data={'signal':signw,\n",
    "        'mu':df[2], \n",
    "        'sigma':df[3], \n",
    "        'amplitude':df[5],\n",
    "        'slope':df[1],\n",
    "        'constant':df[4]\n",
    "        }\n",
    "Dataset2 =pd.DataFrame(data,columns = ['signal', 'mu', 'sigma', 'amplitude','slope','constant'])\n"
   ]
  },
  {
   "cell_type": "code",
   "execution_count": 8,
   "metadata": {
    "collapsed": true
   },
   "outputs": [],
   "source": [
    "#save data to CSV\n",
    "Dataset2.to_csv('signal.csv')"
   ]
  },
  {
   "cell_type": "code",
   "execution_count": 9,
   "metadata": {
    "collapsed": false
   },
   "outputs": [
    {
     "data": {
      "text/html": [
       "<div>\n",
       "<style>\n",
       "    .dataframe thead tr:only-child th {\n",
       "        text-align: right;\n",
       "    }\n",
       "\n",
       "    .dataframe thead th {\n",
       "        text-align: left;\n",
       "    }\n",
       "\n",
       "    .dataframe tbody tr th {\n",
       "        vertical-align: top;\n",
       "    }\n",
       "</style>\n",
       "<table border=\"1\" class=\"dataframe\">\n",
       "  <thead>\n",
       "    <tr style=\"text-align: right;\">\n",
       "      <th></th>\n",
       "      <th>signal</th>\n",
       "      <th>mu</th>\n",
       "      <th>sigma</th>\n",
       "      <th>amplitude</th>\n",
       "      <th>slope</th>\n",
       "      <th>constant</th>\n",
       "    </tr>\n",
       "  </thead>\n",
       "  <tbody>\n",
       "    <tr>\n",
       "      <th>0</th>\n",
       "      <td>[5.04917080407, 5.12807993881, 5.1590878624, 5...</td>\n",
       "      <td>5.421282</td>\n",
       "      <td>1.347571</td>\n",
       "      <td>4.795703</td>\n",
       "      <td>1.943279</td>\n",
       "      <td>2.951359</td>\n",
       "    </tr>\n",
       "    <tr>\n",
       "      <th>1</th>\n",
       "      <td>[3.90428502918, 4.25819317037, 4.05111810503, ...</td>\n",
       "      <td>5.815258</td>\n",
       "      <td>1.812346</td>\n",
       "      <td>2.505616</td>\n",
       "      <td>1.798574</td>\n",
       "      <td>2.047909</td>\n",
       "    </tr>\n",
       "    <tr>\n",
       "      <th>2</th>\n",
       "      <td>[0.443803398734, 0.534640002506, 0.50362042641...</td>\n",
       "      <td>5.670078</td>\n",
       "      <td>0.474498</td>\n",
       "      <td>2.496083</td>\n",
       "      <td>0.124502</td>\n",
       "      <td>0.294928</td>\n",
       "    </tr>\n",
       "    <tr>\n",
       "      <th>3</th>\n",
       "      <td>[3.64775363239, 3.65973485861, 3.67127746476, ...</td>\n",
       "      <td>5.002938</td>\n",
       "      <td>1.320540</td>\n",
       "      <td>5.195130</td>\n",
       "      <td>1.263075</td>\n",
       "      <td>2.285880</td>\n",
       "    </tr>\n",
       "    <tr>\n",
       "      <th>4</th>\n",
       "      <td>[1.78519673945, 1.95316895116, 1.77307544872, ...</td>\n",
       "      <td>5.160837</td>\n",
       "      <td>1.044976</td>\n",
       "      <td>3.546470</td>\n",
       "      <td>0.805265</td>\n",
       "      <td>0.964385</td>\n",
       "    </tr>\n",
       "    <tr>\n",
       "      <th>5</th>\n",
       "      <td>[4.13307361081, 4.14152336983, 4.21846467522, ...</td>\n",
       "      <td>5.487547</td>\n",
       "      <td>1.795973</td>\n",
       "      <td>4.965022</td>\n",
       "      <td>0.821347</td>\n",
       "      <td>2.991844</td>\n",
       "    </tr>\n",
       "    <tr>\n",
       "      <th>6</th>\n",
       "      <td>[1.82326679917, 1.7358260978, 1.84674213955, 1...</td>\n",
       "      <td>4.555763</td>\n",
       "      <td>0.716561</td>\n",
       "      <td>2.952474</td>\n",
       "      <td>1.166391</td>\n",
       "      <td>0.501511</td>\n",
       "    </tr>\n",
       "    <tr>\n",
       "      <th>7</th>\n",
       "      <td>[1.73926337301, 1.67135729081, 1.79215940898, ...</td>\n",
       "      <td>4.079733</td>\n",
       "      <td>1.192889</td>\n",
       "      <td>4.100802</td>\n",
       "      <td>0.925100</td>\n",
       "      <td>0.535531</td>\n",
       "    </tr>\n",
       "    <tr>\n",
       "      <th>8</th>\n",
       "      <td>[3.01998797223, 2.97964862144, 3.05956346109, ...</td>\n",
       "      <td>3.062719</td>\n",
       "      <td>0.658397</td>\n",
       "      <td>3.315573</td>\n",
       "      <td>0.421132</td>\n",
       "      <td>2.482813</td>\n",
       "    </tr>\n",
       "    <tr>\n",
       "      <th>9</th>\n",
       "      <td>[2.59278665998, 2.71745245612, 2.68015318072, ...</td>\n",
       "      <td>4.848885</td>\n",
       "      <td>0.312729</td>\n",
       "      <td>2.958261</td>\n",
       "      <td>0.627114</td>\n",
       "      <td>1.970481</td>\n",
       "    </tr>\n",
       "  </tbody>\n",
       "</table>\n",
       "</div>"
      ],
      "text/plain": [
       "                                              signal        mu     sigma  \\\n",
       "0  [5.04917080407, 5.12807993881, 5.1590878624, 5...  5.421282  1.347571   \n",
       "1  [3.90428502918, 4.25819317037, 4.05111810503, ...  5.815258  1.812346   \n",
       "2  [0.443803398734, 0.534640002506, 0.50362042641...  5.670078  0.474498   \n",
       "3  [3.64775363239, 3.65973485861, 3.67127746476, ...  5.002938  1.320540   \n",
       "4  [1.78519673945, 1.95316895116, 1.77307544872, ...  5.160837  1.044976   \n",
       "5  [4.13307361081, 4.14152336983, 4.21846467522, ...  5.487547  1.795973   \n",
       "6  [1.82326679917, 1.7358260978, 1.84674213955, 1...  4.555763  0.716561   \n",
       "7  [1.73926337301, 1.67135729081, 1.79215940898, ...  4.079733  1.192889   \n",
       "8  [3.01998797223, 2.97964862144, 3.05956346109, ...  3.062719  0.658397   \n",
       "9  [2.59278665998, 2.71745245612, 2.68015318072, ...  4.848885  0.312729   \n",
       "\n",
       "   amplitude     slope  constant  \n",
       "0   4.795703  1.943279  2.951359  \n",
       "1   2.505616  1.798574  2.047909  \n",
       "2   2.496083  0.124502  0.294928  \n",
       "3   5.195130  1.263075  2.285880  \n",
       "4   3.546470  0.805265  0.964385  \n",
       "5   4.965022  0.821347  2.991844  \n",
       "6   2.952474  1.166391  0.501511  \n",
       "7   4.100802  0.925100  0.535531  \n",
       "8   3.315573  0.421132  2.482813  \n",
       "9   2.958261  0.627114  1.970481  "
      ]
     },
     "execution_count": 9,
     "metadata": {},
     "output_type": "execute_result"
    }
   ],
   "source": [
    "Dataset2[:10]"
   ]
  },
  {
   "cell_type": "markdown",
   "metadata": {},
   "source": [
    "# SVR Prediction Module"
   ]
  },
  {
   "cell_type": "code",
   "execution_count": 10,
   "metadata": {
    "collapsed": false
   },
   "outputs": [
    {
     "data": {
      "text/plain": [
       "0.92434066873898479"
      ]
     },
     "execution_count": 10,
     "metadata": {},
     "output_type": "execute_result"
    }
   ],
   "source": [
    "#SVR for prediction for M\n",
    "\n",
    "X_train, X_test, y_train, y_test = train_test_split(signw,m,test_size=0.5)\n",
    "\n",
    "from sklearn.svm import SVR\n",
    "clf = SVR(C=1.0, epsilon=0.2)\n",
    "clf.fit(X_train,y_train) \n",
    "SVR(C=1.0, cache_size=2002, coef0=0.0, degree=3, epsilon=0.2, gamma='auto',\n",
    "    kernel='rbf', max_iter=-10, shrinking=True, tol=0.001, verbose=False)\n",
    "clf.predict(X_test)\n",
    "y1=clf.score(X_test,y_test)\n",
    "y1"
   ]
  },
  {
   "cell_type": "code",
   "execution_count": 11,
   "metadata": {
    "collapsed": false
   },
   "outputs": [
    {
     "data": {
      "text/plain": [
       "0.75256388097266713"
      ]
     },
     "execution_count": 11,
     "metadata": {},
     "output_type": "execute_result"
    }
   ],
   "source": [
    "#SVR for prediction C\n",
    "\n",
    "X_train, X_test, y_train, y_test = train_test_split(signw,c,test_size=0.5)\n",
    "\n",
    "from sklearn.svm import SVR\n",
    "clf = SVR(C=1.0, epsilon=0.2)\n",
    "clf.fit(X_train,y_train) \n",
    "SVR(C=1.0, cache_size=200, coef0=0.0, degree=3, epsilon=0.2, gamma='auto',\n",
    "    kernel='rbf', max_iter=-10, shrinking=True, tol=0.001, verbose=False)\n",
    "clf.predict(X_test)\n",
    "y2=clf.score(X_test,y_test)\n",
    "y2"
   ]
  },
  {
   "cell_type": "code",
   "execution_count": 12,
   "metadata": {
    "collapsed": false
   },
   "outputs": [
    {
     "data": {
      "text/plain": [
       "0.85128703549802209"
      ]
     },
     "execution_count": 12,
     "metadata": {},
     "output_type": "execute_result"
    }
   ],
   "source": [
    "#SVR for prediction A\n",
    "\n",
    "X_train, X_test, y_train, y_test = train_test_split(signw,a,test_size=0.5)\n",
    "\n",
    "from sklearn.svm import SVR\n",
    "clf = SVR(C=1.0, epsilon=0.2)\n",
    "clf.fit(X_train,y_train) \n",
    "SVR(C=1.0, cache_size=200, coef0=0.0, degree=3, epsilon=0.1, gamma='auto',\n",
    "    kernel='rbf', max_iter=-1, shrinking=True, tol=0.001, verbose=False)\n",
    "clf.predict(X_test)\n",
    "y3=clf.score(X_test,y_test)\n",
    "y3"
   ]
  },
  {
   "cell_type": "code",
   "execution_count": 13,
   "metadata": {
    "collapsed": false
   },
   "outputs": [
    {
     "data": {
      "text/plain": [
       "0.93258079401778227"
      ]
     },
     "execution_count": 13,
     "metadata": {},
     "output_type": "execute_result"
    }
   ],
   "source": [
    "#SVR for prediction mu\n",
    "\n",
    "X_train, X_test, y_train, y_test = train_test_split(signw,mu,test_size=0.5)\n",
    "\n",
    "from sklearn.svm import SVR\n",
    "clf = SVR(C=1.0, epsilon=0.2)\n",
    "clf.fit(X_train,y_train) \n",
    "SVR(C=1.0, cache_size=2000, coef0=0.1, degree=3, epsilon=0.5, gamma='auto',\n",
    "    kernel='rbf', max_iter=-10, shrinking=True, tol=0.011, verbose=False)\n",
    "clf.predict(X_test)\n",
    "y4=clf.score(X_test,y_test)\n",
    "y4"
   ]
  },
  {
   "cell_type": "code",
   "execution_count": 14,
   "metadata": {
    "collapsed": false
   },
   "outputs": [
    {
     "data": {
      "text/plain": [
       "0.82834012737301699"
      ]
     },
     "execution_count": 14,
     "metadata": {},
     "output_type": "execute_result"
    }
   ],
   "source": [
    "#SVR for prediction sigma\n",
    "\n",
    "X_train, X_test, y_train, y_test = train_test_split(signw,sigma,test_size=0.5)\n",
    "\n",
    "from sklearn.svm import SVR\n",
    "clf = SVR(C=1.0, epsilon=0.2)\n",
    "clf.fit(X_train,y_train) \n",
    "SVR(C=1.0, cache_size=200, coef0=0.0, degree=3, epsilon=0.2, gamma='auto',\n",
    "    kernel='rbf', max_iter=-1, shrinking=True, tol=0.001, verbose=False)\n",
    "clf.predict(X_test)\n",
    "y5=clf.score(X_test,y_test)\n",
    "y5"
   ]
  },
  {
   "cell_type": "code",
   "execution_count": 15,
   "metadata": {
    "collapsed": false
   },
   "outputs": [
    {
     "name": "stdout",
     "output_type": "stream",
     "text": [
      "Average Accuracy of SVR for four parameters for a dataset of 1000 values is  85.782250132 %\n"
     ]
    }
   ],
   "source": [
    "avg=(y1+y2+y3+y4+y5)/5\n",
    "print('Average Accuracy of SVR for four parameters for a dataset of 1000 values is ',avg*100,'%')"
   ]
  },
  {
   "cell_type": "markdown",
   "metadata": {
    "collapsed": false
   },
   "source": [
    "# Descision forest regression"
   ]
  },
  {
   "cell_type": "code",
   "execution_count": 16,
   "metadata": {
    "collapsed": false
   },
   "outputs": [],
   "source": [
    "from sklearn.ensemble import RandomForestRegressor\n",
    "from sklearn.datasets import make_regression"
   ]
  },
  {
   "cell_type": "code",
   "execution_count": 17,
   "metadata": {
    "collapsed": false
   },
   "outputs": [
    {
     "data": {
      "text/plain": [
       "0.98066293539505933"
      ]
     },
     "execution_count": 17,
     "metadata": {},
     "output_type": "execute_result"
    }
   ],
   "source": [
    "#for prediction of M\n",
    "X_train, X_test, y_train, y_test = train_test_split(signw,m,test_size=0.5)\n",
    "regr = RandomForestRegressor(max_depth=4, random_state=0)\n",
    "regr.fit(X_train, y_train)\n",
    "RandomForestRegressor(bootstrap=True, criterion='mse', max_depth=2,\n",
    "           max_features='auto', max_leaf_nodes=None,\n",
    "           min_impurity_decrease=0.0, min_impurity_split=None,\n",
    "           min_samples_leaf=1, min_samples_split=2,\n",
    "           min_weight_fraction_leaf=0.0, n_estimators=10, n_jobs=1,\n",
    "           oob_score=False, random_state=0, verbose=0, warm_start=False)\n",
    "\n",
    "y_res=regr.predict(X_test)\n",
    "y11=regr.score(X_test,y_test)\n",
    "y11"
   ]
  },
  {
   "cell_type": "code",
   "execution_count": 18,
   "metadata": {
    "collapsed": false
   },
   "outputs": [
    {
     "data": {
      "text/plain": [
       "0.80822832653470777"
      ]
     },
     "execution_count": 18,
     "metadata": {},
     "output_type": "execute_result"
    }
   ],
   "source": [
    "#for prediction of C\n",
    "X_train, X_test, y_train, y_test = train_test_split(signw,c,test_size=0.5)\n",
    "regr = RandomForestRegressor(max_depth=4, random_state=0)\n",
    "regr.fit(X_train, y_train)\n",
    "RandomForestRegressor(bootstrap=True, criterion='mse', max_depth=3,\n",
    "           max_features='auto', max_leaf_nodes=None,\n",
    "           min_impurity_decrease=0.0, min_impurity_split=None,\n",
    "           min_samples_leaf=1, min_samples_split=2,\n",
    "           min_weight_fraction_leaf=0.0, n_estimators=100, n_jobs=4,\n",
    "           oob_score=False, random_state=0, verbose=0, warm_start=False)\n",
    "\n",
    "y_res=regr.predict(X_test)\n",
    "y22=regr.score(X_test,y_test)\n",
    "y22"
   ]
  },
  {
   "cell_type": "code",
   "execution_count": 19,
   "metadata": {
    "collapsed": false
   },
   "outputs": [
    {
     "data": {
      "text/plain": [
       "0.28413700633284644"
      ]
     },
     "execution_count": 19,
     "metadata": {},
     "output_type": "execute_result"
    }
   ],
   "source": [
    "#for  prediction of a\n",
    "X_train, X_test, y_train, y_test = train_test_split(signw,a,test_size=0.5)\n",
    "regr = RandomForestRegressor(max_depth=4, random_state=0)\n",
    "regr.fit(X_train, y_train)\n",
    "RandomForestRegressor(bootstrap=True, criterion='mse', max_depth=2,\n",
    "           max_features='auto', max_leaf_nodes=None,\n",
    "           min_impurity_decrease=0.0, min_impurity_split=None,\n",
    "           min_samples_leaf=1, min_samples_split=2,\n",
    "           min_weight_fraction_leaf=0.0, n_estimators=10, n_jobs=1,\n",
    "           oob_score=False, random_state=0, verbose=0, warm_start=False)\n",
    "\n",
    "y_res=regr.predict(X_test)\n",
    "y33=regr.score(X_test,y_test)\n",
    "y33"
   ]
  },
  {
   "cell_type": "code",
   "execution_count": 20,
   "metadata": {
    "collapsed": false
   },
   "outputs": [
    {
     "data": {
      "text/plain": [
       "0.7638877914609199"
      ]
     },
     "execution_count": 20,
     "metadata": {},
     "output_type": "execute_result"
    }
   ],
   "source": [
    "#for  prediction of mu\n",
    "X_train, X_test, y_train, y_test = train_test_split(signw,mu,test_size=0.5)\n",
    "regr = RandomForestRegressor(max_depth=4, random_state=0)\n",
    "regr.fit(X_train, y_train)\n",
    "RandomForestRegressor(bootstrap=True, criterion='mse', max_depth=2,\n",
    "           max_features='auto', max_leaf_nodes=None,\n",
    "           min_impurity_decrease=0.0, min_impurity_split=None,\n",
    "           min_samples_leaf=1, min_samples_split=2,\n",
    "           min_weight_fraction_leaf=0.0, n_estimators=10, n_jobs=1,\n",
    "           oob_score=False, random_state=0, verbose=0, warm_start=False)\n",
    "\n",
    "y_res=regr.predict(X_test)\n",
    "y44=regr.score(X_test,y_test)\n",
    "y44"
   ]
  },
  {
   "cell_type": "code",
   "execution_count": 21,
   "metadata": {
    "collapsed": false
   },
   "outputs": [
    {
     "data": {
      "text/plain": [
       "0.42676383002057983"
      ]
     },
     "execution_count": 21,
     "metadata": {},
     "output_type": "execute_result"
    }
   ],
   "source": [
    "#for  prediction of sigma\n",
    "X_train, X_test, y_train, y_test = train_test_split(signw,sigma,test_size=0.5)\n",
    "regr = RandomForestRegressor(max_depth=4, random_state=0)\n",
    "regr.fit(X_train, y_train)\n",
    "RandomForestRegressor(bootstrap=True, criterion='mse', max_depth=2,\n",
    "           max_features='auto', max_leaf_nodes=None,\n",
    "           min_impurity_decrease=0.0, min_impurity_split=None,\n",
    "           min_samples_leaf=1, min_samples_split=2,\n",
    "           min_weight_fraction_leaf=0.0, n_estimators=10, n_jobs=1,\n",
    "           oob_score=False, random_state=0, verbose=0, warm_start=False)\n",
    "\n",
    "y_res=regr.predict(X_test)\n",
    "y55=regr.score(X_test,y_test)\n",
    "y55"
   ]
  },
  {
   "cell_type": "code",
   "execution_count": 22,
   "metadata": {
    "collapsed": false
   },
   "outputs": [
    {
     "name": "stdout",
     "output_type": "stream",
     "text": [
      "Average Accuracy of Descision forest regressor for four parameters for a dataset of 1000 values is  65.2735977949 %\n"
     ]
    }
   ],
   "source": [
    "avg2=(y11+y22+y33+y44+y55)/5\n",
    "print('Average Accuracy of Descision forest regressor for four parameters for a dataset of 1000 values is ',avg2*100,'%')"
   ]
  },
  {
   "cell_type": "markdown",
   "metadata": {},
   "source": [
    "# Boosted Decision tree regression"
   ]
  },
  {
   "cell_type": "code",
   "execution_count": 23,
   "metadata": {
    "collapsed": true
   },
   "outputs": [],
   "source": [
    "from sklearn.tree import DecisionTreeRegressor\n",
    "from sklearn.ensemble import AdaBoostRegressor"
   ]
  },
  {
   "cell_type": "code",
   "execution_count": 24,
   "metadata": {
    "collapsed": false
   },
   "outputs": [
    {
     "data": {
      "text/plain": [
       "0.98778282915512805"
      ]
     },
     "execution_count": 24,
     "metadata": {},
     "output_type": "execute_result"
    }
   ],
   "source": [
    "#for prediction of M\n",
    "X_train, X_test, y_train, y_test = train_test_split(signw,m,test_size=0.5)\n",
    "regr= AdaBoostRegressor(DecisionTreeRegressor(max_depth=4),\n",
    "                          n_estimators=300)\n",
    "regr.fit(X_train, y_train)\n",
    "regr.predict(X_test)\n",
    "g1=regr.score(X_test,y_test)\n",
    "g1"
   ]
  },
  {
   "cell_type": "code",
   "execution_count": 25,
   "metadata": {
    "collapsed": false
   },
   "outputs": [
    {
     "data": {
      "text/plain": [
       "0.88973893186695574"
      ]
     },
     "execution_count": 25,
     "metadata": {},
     "output_type": "execute_result"
    }
   ],
   "source": [
    "#for perdication of C\n",
    "X_train, X_test, y_train, y_test = train_test_split(signw,c,test_size=0.5)\n",
    "regr= AdaBoostRegressor(DecisionTreeRegressor(max_depth=12),\n",
    "                          n_estimators=3000)\n",
    "regr.fit(X_train, y_train)\n",
    "regr.predict(X_test)\n",
    "g2=regr.score(X_test,y_test)\n",
    "g2"
   ]
  },
  {
   "cell_type": "code",
   "execution_count": 26,
   "metadata": {
    "collapsed": false
   },
   "outputs": [
    {
     "data": {
      "text/plain": [
       "0.73322372638066002"
      ]
     },
     "execution_count": 26,
     "metadata": {},
     "output_type": "execute_result"
    }
   ],
   "source": [
    "#for prediction of a\n",
    "X_train, X_test, y_train, y_test = train_test_split(signw,a,test_size=0.5)\n",
    "regr= AdaBoostRegressor(DecisionTreeRegressor(max_depth=12),\n",
    "                          n_estimators=3000)\n",
    "regr.fit(X_train, y_train)\n",
    "regr.predict(X_test)\n",
    "g3=regr.score(X_test,y_test)\n",
    "g3"
   ]
  },
  {
   "cell_type": "code",
   "execution_count": 27,
   "metadata": {
    "collapsed": false
   },
   "outputs": [
    {
     "data": {
      "text/plain": [
       "0.93851215118937192"
      ]
     },
     "execution_count": 27,
     "metadata": {},
     "output_type": "execute_result"
    }
   ],
   "source": [
    "#for prediction of MU\n",
    "X_train, X_test, y_train, y_test = train_test_split(signw,mu,test_size=0.5)\n",
    "regr= AdaBoostRegressor(DecisionTreeRegressor(max_depth=10),\n",
    "                          n_estimators=3000)\n",
    "regr.fit(X_train, y_train)\n",
    "regr.predict(X_test)\n",
    "g4=regr.score(X_test,y_test)\n",
    "g4"
   ]
  },
  {
   "cell_type": "code",
   "execution_count": 28,
   "metadata": {
    "collapsed": false
   },
   "outputs": [
    {
     "data": {
      "text/plain": [
       "0.8476172956781769"
      ]
     },
     "execution_count": 28,
     "metadata": {},
     "output_type": "execute_result"
    }
   ],
   "source": [
    "#for predication of sigma\n",
    "X_train, X_test, y_train, y_test = train_test_split(signw,sigma,test_size=0.5)\n",
    "regr= AdaBoostRegressor(DecisionTreeRegressor(max_depth=12),\n",
    "                          n_estimators=4000)\n",
    "regr.fit(X_train, y_train)\n",
    "regr.predict(X_test)\n",
    "g5=regr.score(X_test,y_test)\n",
    "g5"
   ]
  },
  {
   "cell_type": "code",
   "execution_count": 31,
   "metadata": {
    "collapsed": false
   },
   "outputs": [
    {
     "name": "stdout",
     "output_type": "stream",
     "text": [
      "Average Accuracy of boosted Descision Tree for four parameters for a dataset of 1000 values is  87.9374986854 %\n"
     ]
    }
   ],
   "source": [
    "avg3=(g1+g2+g3+g4+g5)/5\n",
    "print('Average Accuracy of boosted Descision Tree for four parameters for a dataset of 1000 values is ',avg3*100,'%')"
   ]
  },
  {
   "cell_type": "code",
   "execution_count": 47,
   "metadata": {
    "collapsed": false
   },
   "outputs": [
    {
     "data": {
      "text/html": [
       "<div>\n",
       "<style>\n",
       "    .dataframe thead tr:only-child th {\n",
       "        text-align: right;\n",
       "    }\n",
       "\n",
       "    .dataframe thead th {\n",
       "        text-align: left;\n",
       "    }\n",
       "\n",
       "    .dataframe tbody tr th {\n",
       "        vertical-align: top;\n",
       "    }\n",
       "</style>\n",
       "<table border=\"1\" class=\"dataframe\">\n",
       "  <thead>\n",
       "    <tr style=\"text-align: right;\">\n",
       "      <th></th>\n",
       "      <th>No</th>\n",
       "      <th>Algo</th>\n",
       "      <th>Auc A</th>\n",
       "      <th>Auc C</th>\n",
       "      <th>Auc M</th>\n",
       "      <th>Auc MU</th>\n",
       "      <th>Auc Sigma</th>\n",
       "      <th>Avg</th>\n",
       "    </tr>\n",
       "  </thead>\n",
       "  <tbody>\n",
       "    <tr>\n",
       "      <th>0</th>\n",
       "      <td>1</td>\n",
       "      <td>SVR</td>\n",
       "      <td>0.851287</td>\n",
       "      <td>0.752564</td>\n",
       "      <td>0.924341</td>\n",
       "      <td>0.932581</td>\n",
       "      <td>0.828340</td>\n",
       "      <td>0.857823</td>\n",
       "    </tr>\n",
       "    <tr>\n",
       "      <th>1</th>\n",
       "      <td>2</td>\n",
       "      <td>DFR</td>\n",
       "      <td>0.284137</td>\n",
       "      <td>0.808228</td>\n",
       "      <td>0.980663</td>\n",
       "      <td>0.763888</td>\n",
       "      <td>0.426764</td>\n",
       "      <td>0.652736</td>\n",
       "    </tr>\n",
       "    <tr>\n",
       "      <th>2</th>\n",
       "      <td>3</td>\n",
       "      <td>BDTR</td>\n",
       "      <td>0.733224</td>\n",
       "      <td>0.889739</td>\n",
       "      <td>0.987783</td>\n",
       "      <td>0.938512</td>\n",
       "      <td>0.847617</td>\n",
       "      <td>0.879375</td>\n",
       "    </tr>\n",
       "  </tbody>\n",
       "</table>\n",
       "</div>"
      ],
      "text/plain": [
       "   No  Algo     Auc A     Auc C     Auc M    Auc MU  Auc Sigma       Avg\n",
       "0   1   SVR  0.851287  0.752564  0.924341  0.932581   0.828340  0.857823\n",
       "1   2   DFR  0.284137  0.808228  0.980663  0.763888   0.426764  0.652736\n",
       "2   3  BDTR  0.733224  0.889739  0.987783  0.938512   0.847617  0.879375"
      ]
     },
     "execution_count": 47,
     "metadata": {},
     "output_type": "execute_result"
    }
   ],
   "source": [
    " d = {'No':[1,2,3],\n",
    "      'Algo': ['SVR', 'DFR','BDTR'], \n",
    "      'Auc M': [y1,y11,g1],\n",
    "      'Auc C':[y2,y22,g2],\n",
    "      'Auc A':[y3,y33,g3],\n",
    "      'Auc MU':[y4,y44,g4],\n",
    "      'Auc Sigma': [y5,y55,g5],\n",
    "      'Avg':[avg,avg2,avg3]}\n",
    "\n",
    "dff = pd.DataFrame(data=d)\n",
    "dff =dff.set_index('No').reset_index()\n",
    "dff"
   ]
  },
  {
   "cell_type": "markdown",
   "metadata": {
    "collapsed": true
   },
   "source": [
    "so from above table we can conclude that for prediction of various parameters we need various alogrithms \n",
    "    1.A     (SVR)\n",
    "    2.C     (BDTR)\n",
    "    3.M     (BDTR)\n",
    "    4.MU    (BDTR)\n",
    "    5.Sigma (BDTR)\n",
    "    \n",
    "    overall BDTR(Boosted Descision Tree Regressor is best suited for the module)"
   ]
  }
 ],
 "metadata": {
  "anaconda-cloud": {},
  "kernelspec": {
   "display_name": "Python [conda env:py3]",
   "language": "python",
   "name": "conda-env-py3-py"
  },
  "language_info": {
   "codemirror_mode": {
    "name": "ipython",
    "version": 3
   },
   "file_extension": ".py",
   "mimetype": "text/x-python",
   "name": "python",
   "nbconvert_exporter": "python",
   "pygments_lexer": "ipython3",
   "version": "3.6.3"
  }
 },
 "nbformat": 4,
 "nbformat_minor": 1
}
