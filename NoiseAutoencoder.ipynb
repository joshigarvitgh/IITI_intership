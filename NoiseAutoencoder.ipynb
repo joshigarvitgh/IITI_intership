{
 "cells": [
  {
   "cell_type": "code",
   "execution_count": 108,
   "metadata": {
    "collapsed": true
   },
   "outputs": [],
   "source": [
    "import numpy as np\n",
    "import matplotlib.pyplot as plt\n",
    "import numpy as np\n",
    "from matplotlib import gridspec\n",
    "from scipy import linalg\n",
    "from scipy.stats import norm\n",
    "import random\n",
    "import pandas as pd \n",
    "from keras.layers import Input, Dense\n",
    "from keras.models import Model"
   ]
  },
  {
   "cell_type": "code",
   "execution_count": 109,
   "metadata": {
    "collapsed": true
   },
   "outputs": [],
   "source": [
    "x=np.linspace(1, 10, 100)"
   ]
  },
  {
   "cell_type": "code",
   "execution_count": 110,
   "metadata": {
    "collapsed": true
   },
   "outputs": [],
   "source": [
    "#linear\n",
    "def linear(m,c):\n",
    "    y=m*x+c\n",
    "    return y\n",
    "\n",
    "#gaussian\n",
    "def gaussian(mu,sigma,a):\n",
    "    gu=((a * np.exp( - (x - mu)**2 / (2 * sigma**2) )))\n",
    "    return gu"
   ]
  },
  {
   "cell_type": "code",
   "execution_count": 244,
   "metadata": {
    "collapsed": true
   },
   "outputs": [],
   "source": [
    "def calc():\n",
    "    m=random.uniform(.1,2)\n",
    "    mu=random.uniform(3,6)\n",
    "    sigma=random.uniform(.1,2)\n",
    "    c=random.uniform(0,3)\n",
    "    a=random.uniform(-2,6)\n",
    "    noise=(np.random.normal(0,.1,100))\n",
    "    li=linear(m,c)\n",
    "    gaus=gaussian(mu,sigma,a)\n",
    "    sig=li+gaus\n",
    "    return sig\n",
    "\n",
    "def calc2():\n",
    "    m=random.uniform(.1,2)\n",
    "    mu=random.uniform(3,6)\n",
    "    sigma=random.uniform(.1,2)\n",
    "    c=random.uniform(0,3)\n",
    "    a=random.uniform(-2,6)\n",
    "    noise=(np.random.normal(0,.1,100))\n",
    "    li=linear(m,c)\n",
    "    gaus=gaussian(mu,sigma,a)\n",
    "    sig=li+gaus+noise\n",
    "    return sig\n",
    "\n",
    "def calc3():\n",
    "    m=random.uniform(.1,2)\n",
    "    mu=random.uniform(3,6)\n",
    "    sigma=random.uniform(.1,2)\n",
    "    c=random.uniform(0,3)\n",
    "    a=random.uniform(-2,6)\n",
    "    noise=(np.random.normal(0,1,100))\n",
    "    li=linear(m,c)\n",
    "    gaus=gaussian(mu,sigma,a)\n",
    "    sig=li+gaus+noise\n",
    "    return sig\n",
    "\n",
    "\n",
    "sign=[ calc() for i in range(3000)]\n",
    "dat=np.array(sign)\n",
    "signf=[ calc2() for i in range(1500)]\n",
    "datf=np.array(signf)\n",
    "signf1=[ calc3() for i in range(1500)]\n",
    "datf1=np.array(signf1)"
   ]
  },
  {
   "cell_type": "code",
   "execution_count": 245,
   "metadata": {
    "collapsed": false
   },
   "outputs": [],
   "source": [
    "\n",
    "\n",
    "# this is the size of our encoded representations\n",
    "\n",
    "# # this is our input placeholder\n",
    "# input_img = Input(shape=(100,))\n",
    "\n",
    "# # \"encoded\" is the encoded representation of the input\n",
    "# encoded = Dense(encoding_dim, activation='relu')(input_img)\n",
    "# # \"decoded\" is the lossy reconstruction of the input\n",
    "# decoded = Dense(100, activation='sigmoid')(encoded)\n",
    "\n",
    "# # this model maps an input to its reconstruction\n",
    "# autoencoder = Model(input_img, decoded)\n",
    "# encoder = Model(input_img, encoded)\n",
    "# encoded_input = Input(shape=(encoding_dim,))\n",
    "# # retrieve the last layer of the autoencoder model\n",
    "# decoder_layer = autoencoder.layers[-1]\n",
    "# # create the decoder model\n",
    "# decoder = Model(encoded_input, decoder_layer(encoded_input))\n",
    "# autoencoder.compile(optimizer='adadelta', loss='binary_crossentropy')\n",
    "\n",
    "input_img = Input(shape=(100,))\n",
    "encoded = Dense(450, activation='relu')(input_img)\n",
    "encoded = Dense(234, activation='relu')(encoded)\n",
    "encoded = Dense(322, activation='relu')(encoded)\n",
    "encoded = Dense(162, activation='relu')(encoded)\n",
    "\n",
    "decoded = Dense(623, activation='relu')(encoded)\n",
    "decoded = Dense(458, activation='relu')(decoded)\n",
    "decoded = Dense(100, activation='sigmoid')(decoded)\n",
    "\n",
    "autoencoder = Model(input_img, decoded)\n",
    "autoencoder.compile(optimizer='adadelta', loss='binary_crossentropy')\n",
    "\n"
   ]
  },
  {
   "cell_type": "code",
   "execution_count": 246,
   "metadata": {
    "collapsed": true
   },
   "outputs": [],
   "source": [
    "#x_train,x_test=np.split(dat,2)"
   ]
  },
  {
   "cell_type": "code",
   "execution_count": 247,
   "metadata": {
    "collapsed": false
   },
   "outputs": [],
   "source": [
    "dat = dat.astype('float32')/225\n",
    "datf= dat.astype('float32')/225\n",
    "\n"
   ]
  },
  {
   "cell_type": "code",
   "execution_count": 248,
   "metadata": {
    "collapsed": false
   },
   "outputs": [
    {
     "name": "stdout",
     "output_type": "stream",
     "text": [
      "Train on 3000 samples, validate on 3000 samples\n",
      "Epoch 1/10\n",
      "3000/3000 [==============================] - 3s 845us/step - loss: 0.6840 - val_loss: 0.6697\n",
      "Epoch 2/10\n",
      "3000/3000 [==============================] - 1s 478us/step - loss: 0.6435 - val_loss: 0.5737\n",
      "Epoch 3/10\n",
      "3000/3000 [==============================] - 1s 432us/step - loss: 0.3253 - val_loss: 0.1537\n",
      "Epoch 4/10\n",
      "3000/3000 [==============================] - 1s 438us/step - loss: 0.1518 - val_loss: 0.1506\n",
      "Epoch 5/10\n",
      "3000/3000 [==============================] - 1s 426us/step - loss: 0.1504 - val_loss: 0.1503\n",
      "Epoch 6/10\n",
      "3000/3000 [==============================] - 1s 403us/step - loss: 0.1503 - val_loss: 0.1503\n",
      "Epoch 7/10\n",
      "3000/3000 [==============================] - 1s 487us/step - loss: 0.1502 - val_loss: 0.1502\n",
      "Epoch 8/10\n",
      "3000/3000 [==============================] - 1s 496us/step - loss: 0.1502 - val_loss: 0.1502\n",
      "Epoch 9/10\n",
      "3000/3000 [==============================] - 1s 442us/step - loss: 0.1502 - val_loss: 0.1502\n",
      "Epoch 10/10\n",
      "3000/3000 [==============================] - 2s 507us/step - loss: 0.1502 - val_loss: 0.1502\n"
     ]
    },
    {
     "data": {
      "text/plain": [
       "<keras.callbacks.History at 0x7f3122fbeeb8>"
      ]
     },
     "execution_count": 248,
     "metadata": {},
     "output_type": "execute_result"
    }
   ],
   "source": [
    "autoencoder.fit(datf,dat,\n",
    "                epochs=10,\n",
    "                batch_size=256,\n",
    "                shuffle=True,\n",
    "                validation_data=(datf,dat))"
   ]
  },
  {
   "cell_type": "code",
   "execution_count": 249,
   "metadata": {
    "collapsed": false
   },
   "outputs": [],
   "source": [
    "encoded_imgs = autoencoder.predict(datf1)\n",
    "decoded_imgs = autoencoder.predict(encoded_imgs)"
   ]
  },
  {
   "cell_type": "code",
   "execution_count": 270,
   "metadata": {
    "collapsed": false
   },
   "outputs": [
    {
     "name": "stdout",
     "output_type": "stream",
     "text": [
      "the wave type on which module was trained (with no noise )\n"
     ]
    },
    {
     "data": {
      "image/png": "[encoded data removed]",
      "text/plain": [
       "<matplotlib.figure.Figure at 0x7f30e394ad30>"
      ]
     },
     "metadata": {},
     "output_type": "display_data"
    }
   ],
   "source": [
    "print(\"the wave type on which module was trained (with no noise )\")\n",
    "plt.plot(dat[25])\n",
    "plt.show()"
   ]
  },
  {
   "cell_type": "code",
   "execution_count": 258,
   "metadata": {
    "collapsed": false
   },
   "outputs": [
    {
     "name": "stdout",
     "output_type": "stream",
     "text": [
      "the wave that was given for input (very high noise )\n"
     ]
    },
    {
     "data": {
      "image/png": "[encoded data removed]",
      "text/plain": [
       "<matplotlib.figure.Figure at 0x7f30e3de50f0>"
      ]
     },
     "metadata": {},
     "output_type": "display_data"
    }
   ],
   "source": [
    "print(\"the wave that was given for input (very high noise )\")\n",
    "plt.plot(datf1[7])\n",
    "plt.show()"
   ]
  },
  {
   "cell_type": "code",
   "execution_count": 259,
   "metadata": {
    "collapsed": false
   },
   "outputs": [
    {
     "name": "stdout",
     "output_type": "stream",
     "text": [
      "the wave recovred (denoised )\n"
     ]
    },
    {
     "data": {
      "image/png": "[encoded data removed]",
      "text/plain": [
       "<matplotlib.figure.Figure at 0x7f30e3d42908>"
      ]
     },
     "metadata": {},
     "output_type": "display_data"
    }
   ],
   "source": [
    "print(\"the wave recovred (denoised )\")\n",
    "plt.plot(decoded_imgs[7])\n",
    "plt.show()"
   ]
  },
  {
   "cell_type": "code",
   "execution_count": null,
   "metadata": {
    "collapsed": false
   },
   "outputs": [],
   "source": [
    "\n"
   ]
  },
  {
   "cell_type": "code",
   "execution_count": null,
   "metadata": {
    "collapsed": true
   },
   "outputs": [],
   "source": []
  },
  {
   "cell_type": "code",
   "execution_count": null,
   "metadata": {
    "collapsed": true
   },
   "outputs": [],
   "source": []
  }
 ],
 "metadata": {
  "kernelspec": {
   "display_name": "Python [conda env:py3]",
   "language": "python",
   "name": "conda-env-py3-py"
  },
  "language_info": {
   "codemirror_mode": {
    "name": "ipython",
    "version": 3
   },
   "file_extension": ".py",
   "mimetype": "text/x-python",
   "name": "python",
   "nbconvert_exporter": "python",
   "pygments_lexer": "ipython3",
   "version": "3.6.3"
  }
 },
 "nbformat": 4,
 "nbformat_minor": 1
}
